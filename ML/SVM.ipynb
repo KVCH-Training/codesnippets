#!/usr/bin/env python
# coding: utf-8

# ### reading and understanding Images

# In[92]:


# importing necessary modules
import numpy as np
from PIL import Image # to r|ead/process images
import os
from sklearn import svm, metrics
import cv2 as cv
import matplotlib.pyplot as plt
from sklearn.model_selection import train_test_split


# In[51]:


base_dir = os.getcwd() + "\\dataset"
base_dir


# In[89]:


image_path = []
image_array = []
target = []
#classes = ["nd", "d1", "d2"]


# In[197]:


for i in os.listdir(base_dir)[1:]: # only to ignore first .ipynb
    new_dir = base_dir + "\\{0}".format(i)
    print(new_dir)
    for j in os.listdir(new_dir):
        
        image_path.append(new_dir + "\\{0}".format(j)) # appending path to a list for dataset - important
        temp_var_img = cv.imread(new_dir + "\\{0}".format(j)) # intermediate temp variable to read image
        temp_var_img_gray = cv.cvtColor(temp_var_img, cv.COLOR_BGR2GRAY) # intermediate temp variable to convert to grayscale
        image_array.append(temp_var_img_gray)
        target.append(i)       
        
        


# In[223]:


image_array.shape


# In[217]:


Image.fromarray(image_array[0])


# In[ ]:





# In[220]:


class_output = np.array(target)
class_output.shape


# In[221]:


# useful variables: image_path, image_array, target
image_array[0].shape


# In[222]:


len(image_array)


# In[224]:


concatenated_array = np.concatenate(image_array, axis=1) # converting list of array to array
n_samples = len(image_array)
data = concatenated_array.reshape((n_samples, -1)) # reshape


# In[202]:


data.shape


# In[235]:


# train SVC classifier
clf = svm.SVC(gamma=0.001) # IS HOW EFFECT OR WHAT IS THE INFLUENCE OF EACH DATA POINT - less = least strict bnoundary, more is more strict boundary

X_train, X_test, y_train, y_test = train_test_split(
    data,class_output, test_size=0.3, shuffle=True
)


# In[236]:


y_train


# In[237]:


clf.fit(X_train, y_train)


# In[238]:


predicted = clf.predict(X_test)


# In[239]:


X_test


# In[240]:


_, axes = plt.subplots(nrows=1, ncols=4, figsize=(10, 4))
for ax, image, prediction in zip(axes, X_test, predicted):
    ax.set_axis_off()
    image = image.reshape(300, 300)
    ax.imshow(image, cmap=plt.cm.gray_r, interpolation="nearest")
    ax.set_title(f"Prediction: {prediction}")


# In[191]:


# flatten the images
n_samples = len(digits.images)
data = digits.images.reshape((n_samples, -1))


# In[109]:


data.shape


# In[106]:


data[1].shape


# In[108]:


digits.images


# In[ ]:




